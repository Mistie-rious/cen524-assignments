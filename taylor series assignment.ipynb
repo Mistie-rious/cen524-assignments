{
 "cells": [
  {
   "cell_type": "code",
   "execution_count": null,
   "id": "bd09e30a-4b3e-47ad-9104-3fba7cf7e3c4",
   "metadata": {},
   "outputs": [],
   "source": [
    "Algorithm\n",
    "\n",
    "1. Define a function taylor_series(f_terms, a, x, n), where:\n",
    "\n",
    "        f_terms is a list containing f(a), f'(a), f''(a), ...\n",
    "\n",
    "        a is the expansion point.\n",
    "\n",
    "        x is the point where we evaluate the series.\n",
    "\n",
    "        n is the number of terms to consider.\n",
    "\n",
    "2. Initialize sum = 0.\n",
    "\n",
    "3. Loop through i from 0 to n-1:\n",
    "\n",
    "        Compute the term using f_terms[i] * (x - a)**i / factorial(i).\n",
    "\n",
    "        Add the term to sum.\n",
    "\n",
    "4. Return sum."
   ]
  },
  {
   "cell_type": "code",
   "execution_count": 1,
   "id": "77779004-db53-423c-b2f3-7074e9b8ca3e",
   "metadata": {},
   "outputs": [
    {
     "name": "stdout",
     "output_type": "stream",
     "text": [
      "2.279520833333333\n"
     ]
    }
   ],
   "source": [
    "import math\n",
    "\n",
    "def taylor_series(f_terms, a, x, n):\n",
    "    sum_series = 0\n",
    "    for i in range(n):\n",
    "        term = (f_terms[i] * ((x - a) ** i)) / math.factorial(i)\n",
    "        sum_series += term\n",
    "    return sum_series\n",
    "\n",
    "\n",
    "f_terms = [1, 1, 0.5, 0.1667, 0.0417]  \n",
    "print(taylor_series(f_terms, 0, 1, 5))\n"
   ]
  },
  {
   "cell_type": "code",
   "execution_count": null,
   "id": "8c9b4774-6e8a-4064-ba67-8e2a45254a08",
   "metadata": {},
   "outputs": [],
   "source": []
  }
 ],
 "metadata": {
  "kernelspec": {
   "display_name": "Python 3 (ipykernel)",
   "language": "python",
   "name": "python3"
  },
  "language_info": {
   "codemirror_mode": {
    "name": "ipython",
    "version": 3
   },
   "file_extension": ".py",
   "mimetype": "text/x-python",
   "name": "python",
   "nbconvert_exporter": "python",
   "pygments_lexer": "ipython3",
   "version": "3.10.16"
  }
 },
 "nbformat": 4,
 "nbformat_minor": 5
}
