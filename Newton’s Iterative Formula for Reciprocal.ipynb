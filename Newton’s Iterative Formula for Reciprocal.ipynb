{
 "cells": [
  {
   "cell_type": "code",
   "execution_count": null,
   "id": "8c64d09b-3ea9-42f0-84fc-f00e744f8726",
   "metadata": {},
   "outputs": [],
   "source": [
    "Algorithm\n",
    "\n",
    "1. Define a function newton_reciprocal(N, x0, iterations).\n",
    "\n",
    "2. Loop for iterations:\n",
    "\n",
    "    Compute x_next = x_current * (2 - x_current * N).\n",
    "\n",
    "    Update x_current = x_next.\n",
    "\n",
    "3. Return the final value."
   ]
  },
  {
   "cell_type": "code",
   "execution_count": 1,
   "id": "2ee5a445-71f5-4488-b3c2-afec879f1b28",
   "metadata": {},
   "outputs": [
    {
     "name": "stdout",
     "output_type": "stream",
     "text": [
      "Iteration 1: 0.15000000000000002\n",
      "Iteration 2: 0.18750000000000003\n",
      "Iteration 3: 0.19921875000000003\n",
      "Iteration 4: 0.19999694824218753\n",
      "Iteration 5: 0.1999999999534339\n",
      "0.1999999999534339\n"
     ]
    }
   ],
   "source": [
    "def newton_reciprocal(N, x0, iterations):\n",
    "    x_current = x0\n",
    "    for i in range(iterations):\n",
    "        x_current = x_current * (2 - x_current * N)\n",
    "        print(f\"Iteration {i+1}: {x_current}\")\n",
    "    return x_current\n",
    "\n",
    "\n",
    "N = 5\n",
    "x0 = 0.1\n",
    "iterations = 5\n",
    "print(newton_reciprocal(N, x0, iterations))\n"
   ]
  },
  {
   "cell_type": "code",
   "execution_count": null,
   "id": "197c8583-3cd1-4749-bf66-8ab5d6c26419",
   "metadata": {},
   "outputs": [],
   "source": []
  }
 ],
 "metadata": {
  "kernelspec": {
   "display_name": "Python 3 (ipykernel)",
   "language": "python",
   "name": "python3"
  },
  "language_info": {
   "codemirror_mode": {
    "name": "ipython",
    "version": 3
   },
   "file_extension": ".py",
   "mimetype": "text/x-python",
   "name": "python",
   "nbconvert_exporter": "python",
   "pygments_lexer": "ipython3",
   "version": "3.10.16"
  }
 },
 "nbformat": 4,
 "nbformat_minor": 5
}
