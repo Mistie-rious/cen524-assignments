{
 "cells": [
  {
   "cell_type": "code",
   "execution_count": null,
   "id": "8c7ab5fd-5f23-41a2-a6fb-da769dafa56d",
   "metadata": {},
   "outputs": [],
   "source": [
    "Algorithm\n",
    "\n",
    "1. Define a function pearson_correlation(x, y).\n",
    "\n",
    "2. Compute means x̄ and ȳ.\n",
    "\n",
    "3. Compute the numerator Σ(x - x̄)(y - ȳ).\n",
    "\n",
    "4. Compute the denominator sqrt(Σ(x - x̄)^2 * Σ(y - ȳ)^2).\n",
    "\n",
    "5. Return the ratio of numerator to denominator."
   ]
  },
  {
   "cell_type": "code",
   "execution_count": 1,
   "id": "c78d3fe9-8345-44a2-a3af-12e41a32b598",
   "metadata": {},
   "outputs": [
    {
     "name": "stdout",
     "output_type": "stream",
     "text": [
      "1.0\n"
     ]
    }
   ],
   "source": [
    "import numpy as np\n",
    "\n",
    "def pearson_correlation(x, y):\n",
    "    x_mean = np.mean(x)\n",
    "    y_mean = np.mean(y)\n",
    "    \n",
    "    numerator = sum((xi - x_mean) * (yi - y_mean) for xi, yi in zip(x, y))\n",
    "    denominator = (sum((xi - x_mean) ** 2 for xi in x) * sum((yi - y_mean) ** 2 for yi in y)) ** 0.5\n",
    "    \n",
    "    return numerator / denominator if denominator != 0 else 0\n",
    "\n",
    "# Example usage\n",
    "x = [10, 20, 30, 40, 50]\n",
    "y = [15, 25, 35, 45, 55]\n",
    "print(pearson_correlation(x, y))  \n"
   ]
  },
  {
   "cell_type": "code",
   "execution_count": null,
   "id": "6318ae19-2a7c-4eb0-82a6-194f81e628ff",
   "metadata": {},
   "outputs": [],
   "source": []
  }
 ],
 "metadata": {
  "kernelspec": {
   "display_name": "Python 3 (ipykernel)",
   "language": "python",
   "name": "python3"
  },
  "language_info": {
   "codemirror_mode": {
    "name": "ipython",
    "version": 3
   },
   "file_extension": ".py",
   "mimetype": "text/x-python",
   "name": "python",
   "nbconvert_exporter": "python",
   "pygments_lexer": "ipython3",
   "version": "3.10.16"
  }
 },
 "nbformat": 4,
 "nbformat_minor": 5
}
