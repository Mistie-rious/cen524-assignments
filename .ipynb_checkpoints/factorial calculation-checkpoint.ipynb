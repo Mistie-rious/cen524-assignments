{
 "cells": [
  {
   "cell_type": "code",
   "execution_count": null,
   "id": "a21a09fc-95f8-4ddd-a9fc-598d8b7266d1",
   "metadata": {},
   "outputs": [],
   "source": [
    "Algorithm\n",
    "\n",
    "1. Define a function factorial(n).\n",
    "\n",
    "2. If n == 0 or n == 1, return 1.\n",
    "\n",
    "3. Otherwise, return n * factorial(n - 1) recursively."
   ]
  },
  {
   "cell_type": "code",
   "execution_count": 2,
   "id": "e48a3ca0-3b3c-4b12-ace6-1cad42f3676b",
   "metadata": {},
   "outputs": [
    {
     "ename": "SyntaxError",
     "evalue": "incomplete input (4202570019.py, line 6)",
     "output_type": "error",
     "traceback": [
      "\u001b[0;36m  Cell \u001b[0;32mIn[2], line 6\u001b[0;36m\u001b[0m\n\u001b[0;31m    print(factorial(6)\u001b[0m\n\u001b[0m                       ^\u001b[0m\n\u001b[0;31mSyntaxError\u001b[0m\u001b[0;31m:\u001b[0m incomplete input\n"
     ]
    }
   ],
   "source": [
    "def factorial(n):\n",
    "    if n == 0 or n == 1:\n",
    "        return 1\n",
    "    return n * factorial(n - 1)\n",
    "\n",
    "print(factorial(6)) \n"
   ]
  },
  {
   "cell_type": "code",
   "execution_count": null,
   "id": "e93d2f8f-80af-40c2-9e43-13a0e05e256b",
   "metadata": {},
   "outputs": [],
   "source": []
  }
 ],
 "metadata": {
  "kernelspec": {
   "display_name": "Python 3 (ipykernel)",
   "language": "python",
   "name": "python3"
  },
  "language_info": {
   "codemirror_mode": {
    "name": "ipython",
    "version": 3
   },
   "file_extension": ".py",
   "mimetype": "text/x-python",
   "name": "python",
   "nbconvert_exporter": "python",
   "pygments_lexer": "ipython3",
   "version": "3.10.16"
  }
 },
 "nbformat": 4,
 "nbformat_minor": 5
}
